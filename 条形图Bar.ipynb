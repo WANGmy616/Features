{
 "cells": [
  {
   "cell_type": "code",
   "execution_count": 61,
   "id": "096001f4",
   "metadata": {},
   "outputs": [],
   "source": [
    "import numpy as np\n",
    "import pandas as pd\n",
    "import matplotlib\n",
    "import matplotlib.pyplot as plt\n",
    "from matplotlib import font_manager"
   ]
  },
  {
   "cell_type": "code",
   "execution_count": 35,
   "id": "9b426f02",
   "metadata": {},
   "outputs": [
    {
     "name": "stdout",
     "output_type": "stream",
     "text": [
      "  names  tickets\n",
      "0     a     12.0\n",
      "1     b     67.0\n",
      "2     c      1.2\n",
      "3     d      5.6\n",
      "4     e     90.0\n",
      "5     f     24.0\n",
      "6     g     46.0\n",
      "<built-in method keys of dict object at 0x7ff9a51c6e80>\n",
      "dict_keys(['a', 'b', 'c', 'd', 'e', 'f', 'g'])\n"
     ]
    },
    {
     "data": {
      "text/plain": [
       "<BarContainer object of 7 artists>"
      ]
     },
     "execution_count": 35,
     "metadata": {},
     "output_type": "execute_result"
    },
    {
     "data": {
      "image/png": "[encoded data removed]",
      "text/plain": [
       "<Figure size 720x432 with 1 Axes>"
      ]
     },
     "metadata": {
      "needs_background": "light"
     },
     "output_type": "display_data"
    }
   ],
   "source": [
    "movies = {'a':12,'b':67,'c':1.2,'d':5.6,'e':90,'f':24,'g':46}\n",
    "# movies = {'a':'a','b':'b','c':'c','d':'d','e':'e','f':'f','g':'g'}\n",
    "movie_df = pd.DataFrame(data = {'names':list(movies.keys()),'tickets':list(movies.values())})\n",
    "print(movie_df)\n",
    "# font = font_manager.FontProperties(fname='',size =)\n",
    "x = list(movies.keys())\n",
    "y = list(movies.values())\n",
    "print(movies.keys)\n",
    "print(movies.keys())\n",
    "# plt.xticks(fontpropertiefont_managernt)\n",
    "plt.figure(figsize=(10,6))\n",
    "plt.bar(x,y)\n",
    "# plt.bar('names','tickets',data=movie_df)\n",
    "# plt.bar(x,y,width=-0.3,align='edge',color='r',edgecolor='k',linewidth=5.6)\n",
    "# plt.yticks(range(0,100,10),[f'{x}Yi' for x in range(0,100,10) ],size = 12)"
   ]
  },
  {
   "cell_type": "markdown",
   "id": "372eff46",
   "metadata": {},
   "source": [
    "# 绘制条形图用plt.bar()\n",
    "*x：在x轴上的坐标，可以为列表，数组，字符串\n",
    "*y：在y轴上的坐标，可以为列表，数组，字符串\n",
    "*传递data，则x和y就是data的值"
   ]
  },
  {
   "cell_type": "code",
   "execution_count": 37,
   "id": "008c5757",
   "metadata": {},
   "outputs": [
    {
     "data": {
      "text/plain": [
       "<BarContainer object of 7 artists>"
      ]
     },
     "execution_count": 37,
     "metadata": {},
     "output_type": "execute_result"
    },
    {
     "data": {
      "image/png": "[encoded data removed]",
      "text/plain": [
       "<Figure size 432x288 with 1 Axes>"
      ]
     },
     "metadata": {
      "needs_background": "light"
     },
     "output_type": "display_data"
    }
   ],
   "source": [
    "# 横向条形图\n",
    "plt.barh(x,y)\n"
   ]
  },
  {
   "cell_type": "code",
   "execution_count": null,
   "id": "800497a6",
   "metadata": {},
   "outputs": [],
   "source": [
    "# 分组条形图\n",
    "font = {'family': 'MicroSoft YaHei'}\n",
    "matplotlib.rc('font', **font)  # 使支持中文\n",
    "movies = {'一':[12,4,5,6,1],'二':[32,11,7,8,67],'三':[8.9,7.1,10,11,1.2],'四':[19,18.3,11,14,5.6],'五':[22,56,49,11,90],\n",
    "          '六':[8.1,3.2,3.6,11,24],'七':[7.9,44,32,9.0,46]}\n",
    "\n",
    "movie_df = pd.DataFrame(movies)\n",
    "movie_df\n",
    "for index in movie_df.index:\n",
    "    series = movie_df.iloc[index]\n",
    "    print(series)\n",
    "# movie_df.plot(kind='bar')\n",
    "plt.figure(figsize=(15,10))\n",
    "# plt.bar(series.index,series.values)\n",
    "xticks = np.arange(len(movies))\n",
    "# xticks = np.arange(0,len(movies)*2,2)\n",
    "bar_width = 0.15\n",
    "# -2 -1 0,1,2\n",
    "# plt.bar(xticks-2*bar_width,movie_df.iloc[0],width=bar_width)\n",
    "# plt.bar(xticks-bar_width,movie_df.iloc[1],width=bar_width)\n",
    "# plt.bar(xticks,movie_df.iloc[2],width=bar_width)\n",
    "# plt.bar(xticks+bar_width,movie_df.iloc[3],width=bar_width)\n",
    "# plt.bar(xticks+2*bar_width,movie_df.iloc[4],width=bar_width)\n",
    "\n",
    "for index in movie_df.index:\n",
    "    plt.bar(xticks+(-2+index)*bar_width,movie_df.iloc[index],width=bar_width,label=f'di{index}tian')\n",
    "font = {'family': 'MicroSoft YaHei'}\n",
    "\n",
    "matplotlib.rc('font', **font)  # 使支持中文\n",
    "\n",
    "plt.xticks(xticks,movie_df.columns,fontproperties=font)\n",
    "plt.legend(prop= font)\n",
    "plt.grid()\n",
    "plt.show()\n",
    "\n"
   ]
  },
  {
   "cell_type": "code",
   "execution_count": 70,
   "id": "b8a4ce92",
   "metadata": {},
   "outputs": [
    {
     "name": "stderr",
     "output_type": "stream",
     "text": [
      "findfont: Font family ['MicroSoft YaHei'] not found. Falling back to DejaVu Sans.\n",
      "/Users/wmy/miniconda3/envs/my_env/lib/python3.9/site-packages/matplotlib/backends/backend_agg.py:240: RuntimeWarning: Glyph 23545 missing from current font.\n",
      "  font.set_text(s, 0.0, flags=flags)\n",
      "/Users/wmy/miniconda3/envs/my_env/lib/python3.9/site-packages/matplotlib/backends/backend_agg.py:240: RuntimeWarning: Glyph 27604 missing from current font.\n",
      "  font.set_text(s, 0.0, flags=flags)\n",
      "/Users/wmy/miniconda3/envs/my_env/lib/python3.9/site-packages/matplotlib/backends/backend_agg.py:240: RuntimeWarning: Glyph 31080 missing from current font.\n",
      "  font.set_text(s, 0.0, flags=flags)\n",
      "/Users/wmy/miniconda3/envs/my_env/lib/python3.9/site-packages/matplotlib/backends/backend_agg.py:240: RuntimeWarning: Glyph 25151 missing from current font.\n",
      "  font.set_text(s, 0.0, flags=flags)\n",
      "/Users/wmy/miniconda3/envs/my_env/lib/python3.9/site-packages/matplotlib/backends/backend_agg.py:240: RuntimeWarning: Glyph 29481 missing from current font.\n",
      "  font.set_text(s, 0.0, flags=flags)\n",
      "/Users/wmy/miniconda3/envs/my_env/lib/python3.9/site-packages/matplotlib/backends/backend_agg.py:240: RuntimeWarning: Glyph 29699 missing from current font.\n",
      "  font.set_text(s, 0.0, flags=flags)\n",
      "/Users/wmy/miniconda3/envs/my_env/lib/python3.9/site-packages/matplotlib/backends/backend_agg.py:240: RuntimeWarning: Glyph 23835 missing from current font.\n",
      "  font.set_text(s, 0.0, flags=flags)\n",
      "/Users/wmy/miniconda3/envs/my_env/lib/python3.9/site-packages/matplotlib/backends/backend_agg.py:240: RuntimeWarning: Glyph 36215 missing from current font.\n",
      "  font.set_text(s, 0.0, flags=flags)\n",
      "/Users/wmy/miniconda3/envs/my_env/lib/python3.9/site-packages/matplotlib/backends/backend_agg.py:240: RuntimeWarning: Glyph 65306 missing from current font.\n",
      "  font.set_text(s, 0.0, flags=flags)\n",
      "/Users/wmy/miniconda3/envs/my_env/lib/python3.9/site-packages/matplotlib/backends/backend_agg.py:240: RuntimeWarning: Glyph 32456 missing from current font.\n",
      "  font.set_text(s, 0.0, flags=flags)\n",
      "/Users/wmy/miniconda3/envs/my_env/lib/python3.9/site-packages/matplotlib/backends/backend_agg.py:240: RuntimeWarning: Glyph 26497 missing from current font.\n",
      "  font.set_text(s, 0.0, flags=flags)\n",
      "/Users/wmy/miniconda3/envs/my_env/lib/python3.9/site-packages/matplotlib/backends/backend_agg.py:240: RuntimeWarning: Glyph 20043 missing from current font.\n",
      "  font.set_text(s, 0.0, flags=flags)\n",
      "/Users/wmy/miniconda3/envs/my_env/lib/python3.9/site-packages/matplotlib/backends/backend_agg.py:240: RuntimeWarning: Glyph 25112 missing from current font.\n",
      "  font.set_text(s, 0.0, flags=flags)\n",
      "/Users/wmy/miniconda3/envs/my_env/lib/python3.9/site-packages/matplotlib/backends/backend_agg.py:240: RuntimeWarning: Glyph 25958 missing from current font.\n",
      "  font.set_text(s, 0.0, flags=flags)\n",
      "/Users/wmy/miniconda3/envs/my_env/lib/python3.9/site-packages/matplotlib/backends/backend_agg.py:240: RuntimeWarning: Glyph 21051 missing from current font.\n",
      "  font.set_text(s, 0.0, flags=flags)\n",
      "/Users/wmy/miniconda3/envs/my_env/lib/python3.9/site-packages/matplotlib/backends/backend_agg.py:240: RuntimeWarning: Glyph 23572 missing from current font.\n",
      "  font.set_text(s, 0.0, flags=flags)\n",
      "/Users/wmy/miniconda3/envs/my_env/lib/python3.9/site-packages/matplotlib/backends/backend_agg.py:240: RuntimeWarning: Glyph 20811 missing from current font.\n",
      "  font.set_text(s, 0.0, flags=flags)\n",
      "/Users/wmy/miniconda3/envs/my_env/lib/python3.9/site-packages/matplotlib/backends/backend_agg.py:240: RuntimeWarning: Glyph 34584 missing from current font.\n",
      "  font.set_text(s, 0.0, flags=flags)\n",
      "/Users/wmy/miniconda3/envs/my_env/lib/python3.9/site-packages/matplotlib/backends/backend_agg.py:240: RuntimeWarning: Glyph 34523 missing from current font.\n",
      "  font.set_text(s, 0.0, flags=flags)\n",
      "/Users/wmy/miniconda3/envs/my_env/lib/python3.9/site-packages/matplotlib/backends/backend_agg.py:240: RuntimeWarning: Glyph 20384 missing from current font.\n",
      "  font.set_text(s, 0.0, flags=flags)\n",
      "/Users/wmy/miniconda3/envs/my_env/lib/python3.9/site-packages/matplotlib/backends/backend_agg.py:240: RuntimeWarning: Glyph 33521 missing from current font.\n",
      "  font.set_text(s, 0.0, flags=flags)\n",
      "/Users/wmy/miniconda3/envs/my_env/lib/python3.9/site-packages/matplotlib/backends/backend_agg.py:240: RuntimeWarning: Glyph 38596 missing from current font.\n",
      "  font.set_text(s, 0.0, flags=flags)\n",
      "/Users/wmy/miniconda3/envs/my_env/lib/python3.9/site-packages/matplotlib/backends/backend_agg.py:240: RuntimeWarning: Glyph 24402 missing from current font.\n",
      "  font.set_text(s, 0.0, flags=flags)\n",
      "/Users/wmy/miniconda3/envs/my_env/lib/python3.9/site-packages/matplotlib/backends/backend_agg.py:240: RuntimeWarning: Glyph 26469 missing from current font.\n",
      "  font.set_text(s, 0.0, flags=flags)\n",
      "/Users/wmy/miniconda3/envs/my_env/lib/python3.9/site-packages/matplotlib/backends/backend_agg.py:240: RuntimeWarning: Glyph 29436 missing from current font.\n",
      "  font.set_text(s, 0.0, flags=flags)\n",
      "/Users/wmy/miniconda3/envs/my_env/lib/python3.9/site-packages/matplotlib/backends/backend_agg.py:203: RuntimeWarning: Glyph 29481 missing from current font.\n",
      "  font.set_text(s, 0, flags=flags)\n",
      "/Users/wmy/miniconda3/envs/my_env/lib/python3.9/site-packages/matplotlib/backends/backend_agg.py:203: RuntimeWarning: Glyph 29699 missing from current font.\n",
      "  font.set_text(s, 0, flags=flags)\n",
      "/Users/wmy/miniconda3/envs/my_env/lib/python3.9/site-packages/matplotlib/backends/backend_agg.py:203: RuntimeWarning: Glyph 23835 missing from current font.\n",
      "  font.set_text(s, 0, flags=flags)\n",
      "/Users/wmy/miniconda3/envs/my_env/lib/python3.9/site-packages/matplotlib/backends/backend_agg.py:203: RuntimeWarning: Glyph 36215 missing from current font.\n",
      "  font.set_text(s, 0, flags=flags)\n",
      "/Users/wmy/miniconda3/envs/my_env/lib/python3.9/site-packages/matplotlib/backends/backend_agg.py:203: RuntimeWarning: Glyph 65306 missing from current font.\n",
      "  font.set_text(s, 0, flags=flags)\n",
      "/Users/wmy/miniconda3/envs/my_env/lib/python3.9/site-packages/matplotlib/backends/backend_agg.py:203: RuntimeWarning: Glyph 32456 missing from current font.\n",
      "  font.set_text(s, 0, flags=flags)\n",
      "/Users/wmy/miniconda3/envs/my_env/lib/python3.9/site-packages/matplotlib/backends/backend_agg.py:203: RuntimeWarning: Glyph 26497 missing from current font.\n",
      "  font.set_text(s, 0, flags=flags)\n",
      "/Users/wmy/miniconda3/envs/my_env/lib/python3.9/site-packages/matplotlib/backends/backend_agg.py:203: RuntimeWarning: Glyph 20043 missing from current font.\n",
      "  font.set_text(s, 0, flags=flags)\n",
      "/Users/wmy/miniconda3/envs/my_env/lib/python3.9/site-packages/matplotlib/backends/backend_agg.py:203: RuntimeWarning: Glyph 25112 missing from current font.\n",
      "  font.set_text(s, 0, flags=flags)\n",
      "/Users/wmy/miniconda3/envs/my_env/lib/python3.9/site-packages/matplotlib/backends/backend_agg.py:203: RuntimeWarning: Glyph 25958 missing from current font.\n",
      "  font.set_text(s, 0, flags=flags)\n",
      "/Users/wmy/miniconda3/envs/my_env/lib/python3.9/site-packages/matplotlib/backends/backend_agg.py:203: RuntimeWarning: Glyph 21051 missing from current font.\n",
      "  font.set_text(s, 0, flags=flags)\n",
      "/Users/wmy/miniconda3/envs/my_env/lib/python3.9/site-packages/matplotlib/backends/backend_agg.py:203: RuntimeWarning: Glyph 23572 missing from current font.\n",
      "  font.set_text(s, 0, flags=flags)\n",
      "/Users/wmy/miniconda3/envs/my_env/lib/python3.9/site-packages/matplotlib/backends/backend_agg.py:203: RuntimeWarning: Glyph 20811 missing from current font.\n",
      "  font.set_text(s, 0, flags=flags)\n",
      "/Users/wmy/miniconda3/envs/my_env/lib/python3.9/site-packages/matplotlib/backends/backend_agg.py:203: RuntimeWarning: Glyph 34584 missing from current font.\n",
      "  font.set_text(s, 0, flags=flags)\n",
      "/Users/wmy/miniconda3/envs/my_env/lib/python3.9/site-packages/matplotlib/backends/backend_agg.py:203: RuntimeWarning: Glyph 34523 missing from current font.\n",
      "  font.set_text(s, 0, flags=flags)\n",
      "/Users/wmy/miniconda3/envs/my_env/lib/python3.9/site-packages/matplotlib/backends/backend_agg.py:203: RuntimeWarning: Glyph 20384 missing from current font.\n",
      "  font.set_text(s, 0, flags=flags)\n",
      "/Users/wmy/miniconda3/envs/my_env/lib/python3.9/site-packages/matplotlib/backends/backend_agg.py:203: RuntimeWarning: Glyph 33521 missing from current font.\n",
      "  font.set_text(s, 0, flags=flags)\n",
      "/Users/wmy/miniconda3/envs/my_env/lib/python3.9/site-packages/matplotlib/backends/backend_agg.py:203: RuntimeWarning: Glyph 38596 missing from current font.\n",
      "  font.set_text(s, 0, flags=flags)\n",
      "/Users/wmy/miniconda3/envs/my_env/lib/python3.9/site-packages/matplotlib/backends/backend_agg.py:203: RuntimeWarning: Glyph 24402 missing from current font.\n",
      "  font.set_text(s, 0, flags=flags)\n",
      "/Users/wmy/miniconda3/envs/my_env/lib/python3.9/site-packages/matplotlib/backends/backend_agg.py:203: RuntimeWarning: Glyph 26469 missing from current font.\n",
      "  font.set_text(s, 0, flags=flags)\n",
      "/Users/wmy/miniconda3/envs/my_env/lib/python3.9/site-packages/matplotlib/backends/backend_agg.py:203: RuntimeWarning: Glyph 29436 missing from current font.\n",
      "  font.set_text(s, 0, flags=flags)\n",
      "/Users/wmy/miniconda3/envs/my_env/lib/python3.9/site-packages/matplotlib/backends/backend_agg.py:240: RuntimeWarning: Glyph 30005 missing from current font.\n",
      "  font.set_text(s, 0.0, flags=flags)\n",
      "/Users/wmy/miniconda3/envs/my_env/lib/python3.9/site-packages/matplotlib/backends/backend_agg.py:240: RuntimeWarning: Glyph 24433 missing from current font.\n",
      "  font.set_text(s, 0.0, flags=flags)\n",
      "/Users/wmy/miniconda3/envs/my_env/lib/python3.9/site-packages/matplotlib/backends/backend_agg.py:240: RuntimeWarning: Glyph 21517 missing from current font.\n",
      "  font.set_text(s, 0.0, flags=flags)\n",
      "/Users/wmy/miniconda3/envs/my_env/lib/python3.9/site-packages/matplotlib/backends/backend_agg.py:240: RuntimeWarning: Glyph 31216 missing from current font.\n",
      "  font.set_text(s, 0.0, flags=flags)\n",
      "/Users/wmy/miniconda3/envs/my_env/lib/python3.9/site-packages/matplotlib/backends/backend_agg.py:203: RuntimeWarning: Glyph 30005 missing from current font.\n",
      "  font.set_text(s, 0, flags=flags)\n",
      "/Users/wmy/miniconda3/envs/my_env/lib/python3.9/site-packages/matplotlib/backends/backend_agg.py:203: RuntimeWarning: Glyph 24433 missing from current font.\n",
      "  font.set_text(s, 0, flags=flags)\n",
      "/Users/wmy/miniconda3/envs/my_env/lib/python3.9/site-packages/matplotlib/backends/backend_agg.py:203: RuntimeWarning: Glyph 21517 missing from current font.\n",
      "  font.set_text(s, 0, flags=flags)\n",
      "/Users/wmy/miniconda3/envs/my_env/lib/python3.9/site-packages/matplotlib/backends/backend_agg.py:203: RuntimeWarning: Glyph 31216 missing from current font.\n",
      "  font.set_text(s, 0, flags=flags)\n",
      "/Users/wmy/miniconda3/envs/my_env/lib/python3.9/site-packages/matplotlib/backends/backend_agg.py:240: RuntimeWarning: Glyph 19975 missing from current font.\n",
      "  font.set_text(s, 0.0, flags=flags)\n",
      "/Users/wmy/miniconda3/envs/my_env/lib/python3.9/site-packages/matplotlib/backends/backend_agg.py:203: RuntimeWarning: Glyph 31080 missing from current font.\n",
      "  font.set_text(s, 0, flags=flags)\n",
      "/Users/wmy/miniconda3/envs/my_env/lib/python3.9/site-packages/matplotlib/backends/backend_agg.py:203: RuntimeWarning: Glyph 25151 missing from current font.\n",
      "  font.set_text(s, 0, flags=flags)\n",
      "/Users/wmy/miniconda3/envs/my_env/lib/python3.9/site-packages/matplotlib/backends/backend_agg.py:203: RuntimeWarning: Glyph 19975 missing from current font.\n",
      "  font.set_text(s, 0, flags=flags)\n",
      "/Users/wmy/miniconda3/envs/my_env/lib/python3.9/site-packages/matplotlib/backends/backend_agg.py:203: RuntimeWarning: Glyph 23545 missing from current font.\n",
      "  font.set_text(s, 0, flags=flags)\n",
      "/Users/wmy/miniconda3/envs/my_env/lib/python3.9/site-packages/matplotlib/backends/backend_agg.py:203: RuntimeWarning: Glyph 27604 missing from current font.\n",
      "  font.set_text(s, 0, flags=flags)\n",
      "/Users/wmy/miniconda3/envs/my_env/lib/python3.9/site-packages/matplotlib/backends/backend_agg.py:240: RuntimeWarning: Glyph 26376 missing from current font.\n",
      "  font.set_text(s, 0.0, flags=flags)\n",
      "/Users/wmy/miniconda3/envs/my_env/lib/python3.9/site-packages/matplotlib/backends/backend_agg.py:240: RuntimeWarning: Glyph 26085 missing from current font.\n",
      "  font.set_text(s, 0.0, flags=flags)\n",
      "/Users/wmy/miniconda3/envs/my_env/lib/python3.9/site-packages/matplotlib/backends/backend_agg.py:203: RuntimeWarning: Glyph 26376 missing from current font.\n",
      "  font.set_text(s, 0, flags=flags)\n",
      "/Users/wmy/miniconda3/envs/my_env/lib/python3.9/site-packages/matplotlib/backends/backend_agg.py:203: RuntimeWarning: Glyph 26085 missing from current font.\n",
      "  font.set_text(s, 0, flags=flags)\n"
     ]
    },
    {
     "data": {
      "image/png": "[encoded data removed]",
      "text/plain": [
       "<Figure size 1600x640 with 1 Axes>"
      ]
     },
     "metadata": {
      "needs_background": "light"
     },
     "output_type": "display_data"
    }
   ],
   "source": [
    "from matplotlib import pyplot as plt\n",
    "import matplotlib\n",
    "\n",
    "font = {'family': 'MicroSoft YaHei'}\n",
    "matplotlib.rc('font', **font)  # 使支持中文\n",
    "\n",
    "a = [\"猩球崛起3：终极之战\",\"敦刻尔克\",\"蜘蛛侠：英雄归来\",\"战狼2\"]\n",
    "b_16 = [15746,312,4497,319]\n",
    "b_15 = [12357,156,2045,168]\n",
    "b_14 = [2358,399,2358,362]\n",
    "\n",
    "bar_width = 0.2  # 绘制多个条形图，这里不能大于0.3\n",
    "# 让后两个条形，向后移动一个bar_width\n",
    "x_14 = list(range(len(a)))\n",
    "x_15 = [i+bar_width for i in x_14]\n",
    "x_16 = [i+2*bar_width for i in x_14]\n",
    "\n",
    "plt.figure(figsize=(20, 8), dpi=80)  # 设置图形大小\n",
    "plt.xticks(x_15, a)  # 设置x轴刻度\n",
    "\n",
    "plt.bar(range(len(a)), b_14, width=bar_width, label='9月14日')\n",
    "plt.bar(x_15, b_15, width=bar_width, label='9月15日')\n",
    "plt.bar(x_16, b_16, width=bar_width, label='9月16日')\n",
    "\n",
    "plt.legend()  # 设置图例\n",
    "plt.xlabel('电影名称')\n",
    "plt.ylabel('票房/万')\n",
    "plt.title('对比票房')\n",
    "plt.savefig('./02.png')\n",
    "plt.show()"
   ]
  },
  {
   "cell_type": "code",
   "execution_count": 82,
   "id": "abb4a037",
   "metadata": {},
   "outputs": [
    {
     "data": {
      "image/png": "[encoded data removed]",
      "text/plain": [
       "<Figure size 432x288 with 1 Axes>"
      ]
     },
     "metadata": {
      "needs_background": "light"
     },
     "output_type": "display_data"
    }
   ],
   "source": [
    "# <!--  堆叠条形图-->\n",
    "menMeans = (20,35,30,35,27)\n",
    "womenMeans = (25,32,34,20,25)\n",
    "groupNames = ('G1','G2','G3','G4','G5')\n",
    "\n",
    "plt.bar(groupNames,menMeans,label='men')\n",
    "plt.bar(groupNames,womenMeans,bottom=menMeans,label='women')\n",
    "plt.legend()\n",
    "plt.show()"
   ]
  }
 ],
 "metadata": {
  "kernelspec": {
   "display_name": "Python 3 (ipykernel)",
   "language": "python",
   "name": "python3"
  },
  "language_info": {
   "codemirror_mode": {
    "name": "ipython",
    "version": 3
   },
   "file_extension": ".py",
   "mimetype": "text/x-python",
   "name": "python",
   "nbconvert_exporter": "python",
   "pygments_lexer": "ipython3",
   "version": "3.9.7"
  }
 },
 "nbformat": 4,
 "nbformat_minor": 5
}
