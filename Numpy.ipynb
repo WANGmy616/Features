{
 "cells": [
  {
   "cell_type": "code",
   "execution_count": 9,
   "id": "541182a9",
   "metadata": {},
   "outputs": [
    {
     "name": "stdout",
     "output_type": "stream",
     "text": [
      "1\n",
      "[4 5]\n",
      "[0 2 4 6 8]\n",
      "9\n"
     ]
    }
   ],
   "source": [
    "import numpy as np\n",
    "a1 = np.arange(10)\n",
    "print(a1[1])\n",
    "print(a1[4:6])\n",
    "print(a1[::2])\n",
    "print(a1[-1])\n",
    "\n"
   ]
  },
  {
   "cell_type": "code",
   "execution_count": 12,
   "id": "fe8ba3f3",
   "metadata": {},
   "outputs": [
    {
     "name": "stdout",
     "output_type": "stream",
     "text": [
      "[[0 2 3 6 0]\n",
      " [6 8 9 8 6]\n",
      " [5 9 0 7 3]\n",
      " [5 3 1 1 1]\n",
      " [0 2 8 4 3]]\n",
      "[2 1 3]\n"
     ]
    }
   ],
   "source": [
    "a2 = np.random.randint(0,10,(5,5))\n",
    "print(a2)\n",
    "print(a2[[0,3,4],[1,3,4]])"
   ]
  },
  {
   "cell_type": "code",
   "execution_count": 5,
   "id": "3c744e7a",
   "metadata": {},
   "outputs": [
    {
     "name": "stdout",
     "output_type": "stream",
     "text": [
      "[[1 1 1 1 0]\n",
      " [0 0 0 0 1]\n",
      " [1 0 0 1 1]\n",
      " [0 1 1 1 0]\n",
      " [0 1 0 1 0]]\n"
     ]
    }
   ],
   "source": [
    "a2[1] = 0\n",
    "a2[1] = np.array([1,2,3,4,5])\n",
    "a2 = np.where(a2<5,0,1)\n",
    "# a2[a2<5] = 0\n",
    "print(a2)"
   ]
  },
  {
   "cell_type": "code",
   "execution_count": 9,
   "id": "e849e1e4",
   "metadata": {},
   "outputs": [
    {
     "name": "stdout",
     "output_type": "stream",
     "text": [
      "[[[0 5 4 2]]\n",
      "\n",
      " [[6 4 4 7]]\n",
      "\n",
      " [[4 7 2 3]]\n",
      "\n",
      " [[0 0 7 5]]\n",
      "\n",
      " [[7 0 8 8]]\n",
      "\n",
      " [[8 4 1 3]]\n",
      "\n",
      " [[6 6 9 1]]\n",
      "\n",
      " [[9 0 2 9]]]\n",
      "--------------------------------------------------\n",
      "[[[1 7 0 ... 4 5 4]\n",
      "  [7 4 7 ... 6 4 8]\n",
      "  [9 9 4 ... 7 2 5]\n",
      "  [2 0 7 ... 3 1 0]]\n",
      "\n",
      " [[2 4 7 ... 0 9 0]\n",
      "  [6 1 8 ... 1 7 6]\n",
      "  [1 9 2 ... 3 4 3]\n",
      "  [7 7 5 ... 5 8 3]]\n",
      "\n",
      " [[3 0 0 ... 6 5 1]\n",
      "  [6 4 0 ... 3 8 1]\n",
      "  [3 1 4 ... 1 7 2]\n",
      "  [4 0 7 ... 5 3 7]]\n",
      "\n",
      " ...\n",
      "\n",
      " [[0 4 1 ... 2 9 8]\n",
      "  [5 7 0 ... 4 5 8]\n",
      "  [8 6 9 ... 5 3 0]\n",
      "  [8 3 8 ... 7 6 0]]\n",
      "\n",
      " [[9 6 1 ... 8 9 5]\n",
      "  [3 9 2 ... 2 1 6]\n",
      "  [5 2 4 ... 5 1 1]\n",
      "  [9 2 9 ... 6 6 2]]\n",
      "\n",
      " [[9 6 8 ... 9 7 5]\n",
      "  [6 9 0 ... 3 8 5]\n",
      "  [3 7 5 ... 0 3 6]\n",
      "  [1 1 5 ... 2 5 6]]]\n",
      "--------------------------------------------------\n"
     ]
    },
    {
     "ename": "ValueError",
     "evalue": "operands could not be broadcast together with shapes (8,1,4) (8,4,50) ",
     "output_type": "error",
     "traceback": [
      "\u001b[0;31m---------------------------------------------------------------------------\u001b[0m",
      "\u001b[0;31mValueError\u001b[0m                                Traceback (most recent call last)",
      "\u001b[0;32m/var/folders/qk/mbv33fhj4zs2t247p5hqvwcc0000gn/T/ipykernel_6834/2185182063.py\u001b[0m in \u001b[0;36m<module>\u001b[0;34m\u001b[0m\n\u001b[1;32m      5\u001b[0m \u001b[0mprint\u001b[0m\u001b[0;34m(\u001b[0m\u001b[0mb2\u001b[0m\u001b[0;34m)\u001b[0m\u001b[0;34m\u001b[0m\u001b[0;34m\u001b[0m\u001b[0m\n\u001b[1;32m      6\u001b[0m \u001b[0mprint\u001b[0m\u001b[0;34m(\u001b[0m\u001b[0;34m\"-\"\u001b[0m\u001b[0;34m*\u001b[0m\u001b[0;36m50\u001b[0m\u001b[0;34m)\u001b[0m\u001b[0;34m\u001b[0m\u001b[0;34m\u001b[0m\u001b[0m\n\u001b[0;32m----> 7\u001b[0;31m \u001b[0mprint\u001b[0m\u001b[0;34m(\u001b[0m\u001b[0mb1\u001b[0m\u001b[0;34m+\u001b[0m\u001b[0mb2\u001b[0m\u001b[0;34m)\u001b[0m\u001b[0;34m\u001b[0m\u001b[0;34m\u001b[0m\u001b[0m\n\u001b[0m\u001b[1;32m      8\u001b[0m \u001b[0mb3\u001b[0m \u001b[0;34m=\u001b[0m \u001b[0mb1\u001b[0m\u001b[0;34m+\u001b[0m\u001b[0mb2\u001b[0m\u001b[0;34m\u001b[0m\u001b[0;34m\u001b[0m\u001b[0m\n\u001b[1;32m      9\u001b[0m \u001b[0mprint\u001b[0m\u001b[0;34m(\u001b[0m\u001b[0mb3\u001b[0m\u001b[0;34m.\u001b[0m\u001b[0mshape\u001b[0m\u001b[0;34m)\u001b[0m\u001b[0;34m\u001b[0m\u001b[0;34m\u001b[0m\u001b[0m\n",
      "\u001b[0;31mValueError\u001b[0m: operands could not be broadcast together with shapes (8,1,4) (8,4,50) "
     ]
    }
   ],
   "source": [
    "b1 = np.random.randint(0,10,(8,1,4))\n",
    "print(b1)\n",
    "print(\"-\"*50)\n",
    "b2 = np.random.randint(0,10,(8,4,50))\n",
    "print(b2)\n",
    "print(\"-\"*50)\n",
    "print(b1+b2)\n",
    "b3 = b1+b2\n",
    "print(b3.shape)\n"
   ]
  },
  {
   "cell_type": "code",
   "execution_count": 2,
   "id": "987d5ddc",
   "metadata": {},
   "outputs": [
    {
     "name": "stdout",
     "output_type": "stream",
     "text": [
      "[[17 21]\n",
      " [72 63]\n",
      " [85  2]\n",
      " [90 48]\n",
      " [96 52]\n",
      " [35 35]\n",
      " [79 61]\n",
      " [95 36]\n",
      " [63 60]\n",
      " [96 82]\n",
      " [37 89]\n",
      " [54 89]\n",
      " [80 74]\n",
      " [12 21]\n",
      " [94 81]\n",
      " [47 55]\n",
      " [91 24]\n",
      " [51 26]\n",
      " [61 40]\n",
      " [91 94]]\n"
     ]
    }
   ],
   "source": [
    "a = np.random.randint(0,100,(20,2))\n",
    "print(a)"
   ]
  },
  {
   "cell_type": "code",
   "execution_count": null,
   "id": "6b3f080e",
   "metadata": {},
   "outputs": [],
   "source": [
    "np.savetxt('score.csv',)"
   ]
  },
  {
   "cell_type": "code",
   "execution_count": 1,
   "id": "06237ccc",
   "metadata": {},
   "outputs": [],
   "source": [
    "import numpy as np\n",
    "import pandas as pd"
   ]
  },
  {
   "cell_type": "code",
   "execution_count": 2,
   "id": "ae9bbaa4",
   "metadata": {},
   "outputs": [
    {
     "name": "stdout",
     "output_type": "stream",
     "text": [
      "   A  B   C   D\n",
      "a  0  1   2   3\n",
      "b  4  5   6   7\n",
      "c  8  9  10  11\n"
     ]
    }
   ],
   "source": [
    "a = pd.DataFrame(np.arange(12).reshape(3,4),index=['a','b','c'],columns=['A','B','C','D'])\n",
    "print(a)"
   ]
  },
  {
   "cell_type": "code",
   "execution_count": 7,
   "id": "b420f953",
   "metadata": {},
   "outputs": [
    {
     "data": {
      "text/plain": [
       "a    0\n",
       "b    4\n",
       "Name: A, dtype: int64"
      ]
     },
     "execution_count": 7,
     "metadata": {},
     "output_type": "execute_result"
    }
   ],
   "source": [
    "a.loc['a':'b','A']"
   ]
  },
  {
   "cell_type": "code",
   "execution_count": 23,
   "id": "47524cba",
   "metadata": {},
   "outputs": [
    {
     "name": "stdout",
     "output_type": "stream",
     "text": [
      "   Unnamed: 0  公司名  北京  江苏  浙江  上海  广东\n",
      "0           0  A公司   1   2   3   4   5\n",
      "1           1  B公司   0   0   1   0   0\n",
      "2           2  C公司   2   3   4   5   0\n",
      "    公司名   北京   江苏   浙江   上海   广东\n",
      "0   A公司  1.0  2.0  3.0  4.0  5.0\n",
      "1   B公司  0.0  0.0  1.0  0.0  0.0\n",
      "2   C公司  2.0  3.0  4.0  5.0  0.0\n",
      "3  各省合计  3.0  5.0  8.0  9.0  5.0\n"
     ]
    }
   ],
   "source": [
    "df = pd.DataFrame([['A公司',  1,  2,  3,  4,  5], ['B公司', 0, 0, 1, 0, 0], ['C公司', 2, 3, 4, 5, 0]], columns=['公司名','北京','江苏','浙江','上海','广东'], index=None)\n",
    "df.to_csv('df1.csv')\n",
    "df1 = pd.read_csv('df1.csv')\n",
    "print(df1)\n",
    "# df_sum = df.sum()   # 全部列求和\n",
    "df_sum = df[['北京', '江苏', '浙江', '上海', '广东']].sum()  # 指定列求和，默认是每列求和\n",
    "df.loc[df.index.max()+1] = df_sum\n",
    "df.loc[df.index.max(),'公司名'] = '各省合计'\n",
    "print(df)\n"
   ]
  },
  {
   "cell_type": "code",
   "execution_count": null,
   "id": "f48d2f9a",
   "metadata": {},
   "outputs": [],
   "source": []
  }
 ],
 "metadata": {
  "kernelspec": {
   "display_name": "Python 3 (ipykernel)",
   "language": "python",
   "name": "python3"
  },
  "language_info": {
   "codemirror_mode": {
    "name": "ipython",
    "version": 3
   },
   "file_extension": ".py",
   "mimetype": "text/x-python",
   "name": "python",
   "nbconvert_exporter": "python",
   "pygments_lexer": "ipython3",
   "version": "3.9.7"
  }
 },
 "nbformat": 4,
 "nbformat_minor": 5
}
