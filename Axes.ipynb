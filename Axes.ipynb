{
 "cells": [
  {
   "cell_type": "code",
   "execution_count": 38,
   "id": "80751dc1",
   "metadata": {},
   "outputs": [],
   "source": [
    "import numpy as np\n",
    "import pandas as pd\n",
    "import matplotlib.pyplot as plt\n",
    "import matplotlib\n",
    "from matplotlib import font_manager\n",
    "import matplotlib.ticker as ticker #设置刻度"
   ]
  },
  {
   "cell_type": "code",
   "execution_count": 13,
   "id": "9d927103",
   "metadata": {},
   "outputs": [],
   "source": [
    "font = font_manager.FontProperties('Heiti TC',size=20)\n"
   ]
  },
  {
   "cell_type": "code",
   "execution_count": 7,
   "id": "144e5334",
   "metadata": {},
   "outputs": [
    {
     "name": "stdout",
     "output_type": "stream",
     "text": [
      ".Aqua Kana\n",
      ".Arabic UI Display\n",
      ".Arabic UI Text\n",
      ".Keyboard\n",
      ".New York\n",
      ".New York\n",
      ".SF Compact\n",
      ".SF Compact\n",
      ".SF Compact Rounded\n",
      ".SF NS Mono\n",
      ".SF NS Mono\n",
      ".SF NS Rounded\n",
      "Academy Engraved LET\n",
      "Al Bayan\n",
      "Al Nile\n",
      "Al Tarikh\n",
      "American Typewriter\n",
      "Andale Mono\n",
      "Apple Braille\n",
      "Apple Braille\n",
      "Apple Braille\n",
      "Apple Braille\n",
      "Apple Braille\n",
      "Apple Chancery\n",
      "Apple SD Gothic Neo\n",
      "Apple Symbols\n",
      "AppleGothic\n",
      "AppleMyungjo\n",
      "Arial\n",
      "Arial\n",
      "Arial\n",
      "Arial\n",
      "Arial Black\n",
      "Arial Hebrew\n",
      "Arial Narrow\n",
      "Arial Narrow\n",
      "Arial Narrow\n",
      "Arial Narrow\n",
      "Arial Rounded MT Bold\n",
      "Arial Unicode MS\n",
      "Arial Unicode MS\n",
      "Athelas\n",
      "Avenir\n",
      "Avenir Next\n",
      "Avenir Next Condensed\n",
      "Ayuthaya\n",
      "Baghdad\n",
      "Bangla MN\n",
      "Bangla Sangam MN\n",
      "Baskerville\n",
      "Beirut\n",
      "Big Caslon\n",
      "Bodoni 72\n",
      "Bodoni 72 Oldstyle\n",
      "Bodoni 72 Smallcaps\n",
      "Bodoni Ornaments\n",
      "Bradley Hand\n",
      "Brush Script MT\n",
      "Chalkboard\n",
      "Chalkboard SE\n",
      "Chalkduster\n",
      "Charter\n",
      "Cochin\n",
      "Comic Sans MS\n",
      "Comic Sans MS\n",
      "Copperplate\n",
      "Corsiva Hebrew\n",
      "Courier New\n",
      "Courier New\n",
      "Courier New\n",
      "Courier New\n",
      "DIN Alternate\n",
      "DIN Condensed\n",
      "Damascus\n",
      "DecoType Naskh\n",
      "DejaVu Sans\n",
      "DejaVu Sans\n",
      "DejaVu Sans\n",
      "DejaVu Sans\n",
      "DejaVu Sans Display\n",
      "DejaVu Sans Mono\n",
      "DejaVu Sans Mono\n",
      "DejaVu Sans Mono\n",
      "DejaVu Sans Mono\n",
      "DejaVu Serif\n",
      "DejaVu Serif\n",
      "DejaVu Serif\n",
      "DejaVu Serif\n",
      "DejaVu Serif Display\n",
      "Devanagari MT\n",
      "Devanagari Sangam MN\n",
      "Didot\n",
      "Diwan Kufi\n",
      "Diwan Thuluth\n",
      "Euphemia UCAS\n",
      "Farah\n",
      "Farisi\n",
      "Futura\n",
      "Galvji\n",
      "Geeza Pro\n",
      "Georgia\n",
      "Georgia\n",
      "Georgia\n",
      "Georgia\n",
      "Gill Sans\n",
      "Gujarati MT\n",
      "Gujarati Sangam MN\n",
      "Gurmukhi MN\n",
      "Gurmukhi MT\n",
      "Gurmukhi Sangam MN\n",
      "Heiti TC\n",
      "Heiti TC\n",
      "Helvetica\n",
      "Helvetica Neue\n",
      "Herculanum\n",
      "Hiragino Maru Gothic Pro\n",
      "Hiragino Mincho ProN\n",
      "Hiragino Sans\n",
      "Hiragino Sans\n",
      "Hiragino Sans\n",
      "Hiragino Sans\n",
      "Hiragino Sans\n",
      "Hiragino Sans\n",
      "Hiragino Sans\n",
      "Hiragino Sans\n",
      "Hiragino Sans\n",
      "Hiragino Sans\n",
      "Hiragino Sans GB\n",
      "Hoefler Text\n",
      "Hoefler Text\n",
      "ITF Devanagari\n",
      "Impact\n",
      "InaiMathi\n",
      "Iowan Old Style\n",
      "Kailasa\n",
      "Kannada MN\n",
      "Kannada Sangam MN\n",
      "Kefa\n",
      "Khmer MN\n",
      "Khmer Sangam MN\n",
      "Kohinoor Bangla\n",
      "Kohinoor Devanagari\n",
      "Kohinoor Gujarati\n",
      "Kohinoor Telugu\n",
      "Kokonor\n",
      "Krungthep\n",
      "KufiStandardGK\n",
      "Lao MN\n",
      "Lao Sangam MN\n",
      "Lucida Grande\n",
      "Luminari\n",
      "Malayalam MN\n",
      "Malayalam Sangam MN\n",
      "Marion\n",
      "Marker Felt\n",
      "Menlo\n",
      "Microsoft Sans Serif\n",
      "Mishafi\n",
      "Mishafi Gold\n",
      "Mshtakan\n",
      "Mukta Mahee\n",
      "Muna\n",
      "Myanmar MN\n",
      "Myanmar Sangam MN\n",
      "Nadeem\n",
      "New Peninim MT\n",
      "Noteworthy\n",
      "Noto Nastaliq Urdu\n",
      "Noto Sans Adlam\n",
      "Noto Sans Armenian\n",
      "Noto Sans Avestan\n",
      "Noto Sans Bamum\n",
      "Noto Sans Bassa Vah\n",
      "Noto Sans Batak\n",
      "Noto Sans Bhaiksuki\n",
      "Noto Sans Brahmi\n",
      "Noto Sans Buginese\n",
      "Noto Sans Buhid\n",
      "Noto Sans Carian\n",
      "Noto Sans Caucasian Albanian\n",
      "Noto Sans Chakma\n",
      "Noto Sans Cham\n",
      "Noto Sans Coptic\n",
      "Noto Sans Cuneiform\n",
      "Noto Sans Cypriot\n",
      "Noto Sans Duployan\n",
      "Noto Sans Egyptian Hieroglyphs\n",
      "Noto Sans Elbasan\n",
      "Noto Sans Glagolitic\n",
      "Noto Sans Gothic\n",
      "Noto Sans Hanifi Rohingya\n",
      "Noto Sans Hanunoo\n",
      "Noto Sans Hatran\n",
      "Noto Sans Imperial Aramaic\n",
      "Noto Sans Inscriptional Pahlavi\n",
      "Noto Sans Inscriptional Parthian\n",
      "Noto Sans Javanese\n",
      "Noto Sans Kaithi\n",
      "Noto Sans Kannada\n",
      "Noto Sans Kayah Li\n",
      "Noto Sans Kharoshthi\n",
      "Noto Sans Khojki\n",
      "Noto Sans Khudawadi\n",
      "Noto Sans Lepcha\n",
      "Noto Sans Limbu\n",
      "Noto Sans Linear A\n",
      "Noto Sans Linear B\n",
      "Noto Sans Lisu\n",
      "Noto Sans Lycian\n",
      "Noto Sans Lydian\n",
      "Noto Sans Mahajani\n",
      "Noto Sans Mandaic\n",
      "Noto Sans Manichaean\n",
      "Noto Sans Marchen\n",
      "Noto Sans Meetei Mayek\n",
      "Noto Sans Mende Kikakui\n",
      "Noto Sans Meroitic\n",
      "Noto Sans Miao\n",
      "Noto Sans Modi\n",
      "Noto Sans Mongolian\n",
      "Noto Sans Mro\n",
      "Noto Sans Multani\n",
      "Noto Sans Myanmar\n",
      "Noto Sans NKo\n",
      "Noto Sans Nabataean\n",
      "Noto Sans New Tai Lue\n",
      "Noto Sans Newa\n",
      "Noto Sans Ogham\n",
      "Noto Sans Ol Chiki\n",
      "Noto Sans Old Hungarian\n",
      "Noto Sans Old Italic\n",
      "Noto Sans Old North Arabian\n",
      "Noto Sans Old Permic\n",
      "Noto Sans Old Persian\n",
      "Noto Sans Old South Arabian\n",
      "Noto Sans Old Turkic\n",
      "Noto Sans Oriya\n",
      "Noto Sans Osage\n",
      "Noto Sans Osmanya\n",
      "Noto Sans Pahawh Hmong\n",
      "Noto Sans Palmyrene\n",
      "Noto Sans Pau Cin Hau\n",
      "Noto Sans PhagsPa\n",
      "Noto Sans Phoenician\n",
      "Noto Sans Psalter Pahlavi\n",
      "Noto Sans Rejang\n",
      "Noto Sans Runic\n",
      "Noto Sans Samaritan\n",
      "Noto Sans Saurashtra\n",
      "Noto Sans Sharada\n",
      "Noto Sans Shavian\n",
      "Noto Sans Siddham\n",
      "Noto Sans Sora Sompeng\n",
      "Noto Sans Sundanese\n",
      "Noto Sans Syloti Nagri\n",
      "Noto Sans Syriac\n",
      "Noto Sans Tagalog\n",
      "Noto Sans Tagbanwa\n",
      "Noto Sans Tai Le\n",
      "Noto Sans Tai Tham\n",
      "Noto Sans Tai Viet\n",
      "Noto Sans Takri\n",
      "Noto Sans Thaana\n",
      "Noto Sans Tifinagh\n",
      "Noto Sans Tirhuta\n",
      "Noto Sans Ugaritic\n",
      "Noto Sans Vai\n",
      "Noto Sans Wancho\n",
      "Noto Sans Warang Citi\n",
      "Noto Sans Yi\n",
      "Noto Serif Ahom\n",
      "Noto Serif Balinese\n",
      "Noto Serif Myanmar\n",
      "Optima\n",
      "Oriya MN\n",
      "Oriya Sangam MN\n",
      "PT Mono\n",
      "PT Sans\n",
      "PT Serif\n",
      "PT Serif Caption\n",
      "Palatino\n",
      "Papyrus\n",
      "Party LET\n",
      "Phosphate\n",
      "PingFang HK\n",
      "Plantagenet Cherokee\n",
      "Raanana\n",
      "Rockwell\n",
      "STIXGeneral\n",
      "STIXGeneral\n",
      "STIXGeneral\n",
      "STIXGeneral\n",
      "STIXGeneral\n",
      "STIXGeneral\n",
      "STIXGeneral\n",
      "STIXGeneral\n",
      "STIXIntegralsD\n",
      "STIXIntegralsD\n",
      "STIXIntegralsSm\n",
      "STIXIntegralsSm\n",
      "STIXIntegralsUp\n",
      "STIXIntegralsUp\n",
      "STIXIntegralsUpD\n",
      "STIXIntegralsUpD\n",
      "STIXIntegralsUpSm\n",
      "STIXIntegralsUpSm\n",
      "STIXNonUnicode\n",
      "STIXNonUnicode\n",
      "STIXNonUnicode\n",
      "STIXNonUnicode\n",
      "STIXNonUnicode\n",
      "STIXNonUnicode\n",
      "STIXNonUnicode\n",
      "STIXNonUnicode\n",
      "STIXSizeFiveSym\n",
      "STIXSizeFiveSym\n",
      "STIXSizeFourSym\n",
      "STIXSizeFourSym\n",
      "STIXSizeFourSym\n",
      "STIXSizeFourSym\n",
      "STIXSizeOneSym\n",
      "STIXSizeOneSym\n",
      "STIXSizeOneSym\n",
      "STIXSizeOneSym\n",
      "STIXSizeThreeSym\n",
      "STIXSizeThreeSym\n",
      "STIXSizeThreeSym\n",
      "STIXSizeThreeSym\n",
      "STIXSizeTwoSym\n",
      "STIXSizeTwoSym\n",
      "STIXSizeTwoSym\n",
      "STIXSizeTwoSym\n",
      "STIXVariants\n",
      "STIXVariants\n",
      "Sana\n",
      "Sathu\n",
      "Savoye LET\n",
      "Seravek\n",
      "Shree Devanagari 714\n",
      "SignPainter\n",
      "Silom\n",
      "Sinhala MN\n",
      "Sinhala Sangam MN\n",
      "Skia\n",
      "Snell Roundhand\n",
      "Songti SC\n",
      "Sukhumvit Set\n",
      "Superclarendon\n",
      "Symbol\n",
      "System Font\n",
      "System Font\n",
      "Tahoma\n",
      "Tahoma\n",
      "Tamil MN\n",
      "Tamil Sangam MN\n",
      "Telugu MN\n",
      "Telugu Sangam MN\n",
      "Thonburi\n",
      "Times\n",
      "Times New Roman\n",
      "Times New Roman\n",
      "Times New Roman\n",
      "Times New Roman\n",
      "Trattatello\n",
      "Trebuchet MS\n",
      "Trebuchet MS\n",
      "Trebuchet MS\n",
      "Trebuchet MS\n",
      "Verdana\n",
      "Verdana\n",
      "Verdana\n",
      "Verdana\n",
      "Waseem\n",
      "Webdings\n",
      "Wingdings\n",
      "Wingdings 2\n",
      "Wingdings 3\n",
      "Zapf Dingbats\n",
      "Zapfino\n",
      "cmb10\n",
      "cmex10\n",
      "cmmi10\n",
      "cmr10\n",
      "cmss10\n",
      "cmsy10\n",
      "cmtt10\n"
     ]
    }
   ],
   "source": [
    "a=sorted([f.name for f in matplotlib.font_manager.fontManager.ttflist])\n",
    "for i in a:\n",
    "    print(i)\n"
   ]
  },
  {
   "cell_type": "code",
   "execution_count": 18,
   "id": "99e05c46",
   "metadata": {},
   "outputs": [],
   "source": [
    "plt.rcParams['font.sans-serif']='Heiti TC'\n",
    "plt.rcParams['axes.unicode_minus'] = False  # 负号正常显示"
   ]
  },
  {
   "cell_type": "code",
   "execution_count": 9,
   "id": "fb6dede1",
   "metadata": {},
   "outputs": [
    {
     "data": {
      "text/plain": [
       "Text(0, 0, '你好')"
      ]
     },
     "execution_count": 9,
     "metadata": {},
     "output_type": "execute_result"
    },
    {
     "data": {
      "image/png": "[encoded data removed]",
      "text/plain": [
       "<Figure size 432x288 with 1 Axes>"
      ]
     },
     "metadata": {
      "needs_background": "light"
     },
     "output_type": "display_data"
    }
   ],
   "source": [
    "# 设置x和y轴的最大值和最小值\n",
    "fig = plt.figure()\n",
    "ax1 = fig.add_subplot(111)\n",
    "ax1.plot(np.random.randn(10))\n",
    "ax1.set_xlim(-2,12)\n",
    "ax1.set_xticks(np.arange(0,10))\n",
    "ax1.set_ylim(-3,3)\n",
    "#添加文本\n",
    "ax1.text(0,0,'你好',)"
   ]
  },
  {
   "cell_type": "code",
   "execution_count": 7,
   "id": "faa3a5f2",
   "metadata": {},
   "outputs": [
    {
     "data": {
      "text/plain": [
       "<Axes:>"
      ]
     },
     "execution_count": 7,
     "metadata": {},
     "output_type": "execute_result"
    },
    {
     "data": {
      "image/png": "[encoded data removed]",
      "text/plain": [
       "<Figure size 432x288 with 1 Axes>"
      ]
     },
     "metadata": {
      "needs_background": "light"
     },
     "output_type": "display_data"
    }
   ],
   "source": [
    "fig = plt.figure()\n",
    "ax1 = fig.add_axes([0,0,1,0.3])\n",
    "ax1.plot(np.random.rand(10))\n",
    "fig.sca(ax1)#先设置再获取，就是设置的图\n",
    "fig.gca()\n",
    "#删除\n",
    "fig.delaxes(ax1)\n",
    "#获取所有ax\n",
    "for ax in fig.axes:\n",
    "    print(ax)\n"
   ]
  },
  {
   "cell_type": "code",
   "execution_count": 33,
   "id": "d7e6e758",
   "metadata": {
    "scrolled": true
   },
   "outputs": [
    {
     "data": {
      "text/plain": [
       "<matplotlib.legend.Legend at 0x7fc77a85e3d0>"
      ]
     },
     "execution_count": 33,
     "metadata": {},
     "output_type": "execute_result"
    },
    {
     "data": {
      "image/png": "[encoded data removed]",
      "text/plain": [
       "<Figure size 1080x720 with 2 Axes>"
      ]
     },
     "metadata": {
      "needs_background": "light"
     },
     "output_type": "display_data"
    }
   ],
   "source": [
    "#双y轴\n",
    "fig = plt.figure(figsize=(15,10))\n",
    "ax1 = fig.add_subplot(111)\n",
    "ax1.bar(np.arange(0,10),np.random.rand(10)*20,label='温度')\n",
    "ax1.set_ylabel('温度')\n",
    "ax2 = ax1.twinx()\n",
    "ax2.plot(np.arange(0,12,2),np.random.rand(6),c='y',label='降水量')\n",
    "ax2.set_ylabel('降水量')\n",
    "fig.legend(prop=font,ncol=2,loc='upper center')\n"
   ]
  },
  {
   "cell_type": "code",
   "execution_count": 46,
   "id": "7a1ca810",
   "metadata": {},
   "outputs": [
    {
     "data": {
      "image/png": "[encoded data removed]",
      "text/plain": [
       "<Figure size 1080x720 with 1 Axes>"
      ]
     },
     "metadata": {
      "needs_background": "light"
     },
     "output_type": "display_data"
    }
   ],
   "source": [
    "#axis操作\n",
    "fig = plt.figure(figsize=(15,10))\n",
    "ax1 = fig.add_subplot(111)\n",
    "ax1.bar(range(0,10),np.random.rand(10)*20,label='温度')\n",
    "ax1.set_ylabel('温度')\n",
    "ax1.yaxis.set_label_coords(-0.05,1)\n"
   ]
  },
  {
   "cell_type": "code",
   "execution_count": 56,
   "id": "a85cef42",
   "metadata": {},
   "outputs": [
    {
     "name": "stdout",
     "output_type": "stream",
     "text": [
      "<class 'matplotlib.text.Text'>\n",
      "<class 'matplotlib.text.Text'>\n",
      "<class 'matplotlib.text.Text'>\n",
      "<class 'matplotlib.text.Text'>\n",
      "<class 'matplotlib.text.Text'>\n",
      "<class 'matplotlib.text.Text'>\n",
      "<class 'matplotlib.text.Text'>\n"
     ]
    },
    {
     "data": {
      "image/png": "[encoded data removed]",
      "text/plain": [
       "<Figure size 1080x720 with 1 Axes>"
      ]
     },
     "metadata": {
      "needs_background": "light"
     },
     "output_type": "display_data"
    }
   ],
   "source": [
    "#刻度\n",
    "from matplotlib import ticker\n",
    "fig = plt.figure(figsize=(15,10))\n",
    "ax1 = fig.add_subplot(111)\n",
    "ax1.bar(np.arange(0,10),np.random.rand(10)*20,label='温度')\n",
    "ax1.set_facecolor('y')\n",
    "ax1.set_ylabel('温度')\n",
    "ax1.yaxis.set_label_coords(-0.05,1)\n",
    "formatter = ticker.FormatStrFormatter('&%.2f')\n",
    "ax1.yaxis.set_major_formatter(formatter)\n",
    "\n",
    "#设置刻度文本\n",
    "xlabels = ax1.xaxis.get_ticklabels()\n",
    "for label in xlabels:\n",
    "    label.set_color('r')\n",
    "    label.set_rotation(30)\n",
    "    label.set_fontsize(16)\n",
    "    print(type(label))\n",
    "    \n",
    "ylines = ax1.yaxis.get_ticklines()\n",
    "for line in ylines:\n",
    "    line.set_markeredgecolor('r')\n",
    "    line.set_markeredgewidth(5)\n",
    "    line.set_markersize(20)\n",
    "ax1.minorticks_on()"
   ]
  },
  {
   "cell_type": "code",
   "execution_count": 65,
   "id": "48d9a511",
   "metadata": {},
   "outputs": [
    {
     "data": {
      "image/png": "[encoded data removed]",
      "text/plain": [
       "<Figure size 432x288 with 1 Axes>"
      ]
     },
     "metadata": {
      "needs_background": "light"
     },
     "output_type": "display_data"
    }
   ],
   "source": [
    "from matplotlib import ticker\n",
    "np.random.seed(19680801)\n",
    "\n",
    "fig,ax = plt.subplots(1,1)\n",
    "ax.plot(100*np.random.rand(20))\n",
    "\n",
    "formatter = ticker.FormatStrFormatter('$%.2f')\n",
    "ax.yaxis.set_major_formatter(formatter)\n",
    "\n",
    "for tick in ax.yaxis.get_major_ticks():\n",
    "    tick.label1On = False\n",
    "    tick.label2On = False\n",
    "    tick.label2.set_color('green')\n",
    "plt.show()"
   ]
  },
  {
   "cell_type": "code",
   "execution_count": 84,
   "id": "1be8e70a",
   "metadata": {},
   "outputs": [
    {
     "data": {
      "image/png": "[encoded data removed]",
      "text/plain": [
       "<Figure size 432x288 with 1 Axes>"
      ]
     },
     "metadata": {
      "needs_background": "light"
     },
     "output_type": "display_data"
    }
   ],
   "source": [
    "#刻度的调整\n",
    "from matplotlib import ticker\n",
    "fig = plt.figure()\n",
    "ax1 = fig.add_subplot(111)\n",
    "for tick in ax1.yaxis.get_major_ticks():\n",
    "    tick.label1.set_visible(False)\n",
    "    tick.label2.set_visible(True)\n",
    "    tick.tick1line.set_visible(False)\n",
    "    tick.tick2line.set_visible(True)\n",
    "for ticks in ax1.yaxis.get_minor_ticks():\n",
    "    ticks.set_visible(False)\n",
    "    ticks.set_visible(True)\n",
    "ax1.minorticks_on()"
   ]
  },
  {
   "cell_type": "markdown",
   "id": "4628a6e8",
   "metadata": {},
   "source": [
    "#  1markdown\n",
    "1.图的构成，figure是一个画板，上面可以有很多axes对象，axes上面有axis轴，有线条，有legend，有title等\n",
    "2.figure上的操作基本都是对于axes的一些操作\n",
    "  添加axes：fig.add_subplot()/fig.add_axes([left,bottom,wedth,height])\n",
    "  fig.gca()获取当前axes，fig.sca(axes)设置当前axes\n",
    "  删除axes：fig.delaxes(axes)\n",
    "  获取所有的axes：for i in fig.axes:\n",
    "3.Axes对象：大部分的图形元素都是绘制在axes上，比如条形，折线等。\n",
    "  通过set_xlim（）和set_ylim()可以设置x轴和y轴的最大值和最小值\n",
    "  通过text可以在axes上添加文本，只需要制定xy的坐标和文本内容\n",
    "  添加双y轴，原理是将axes堆叠在一起，通过ax.twinx()来克隆出一个新的axes对象\n",
    "4.axis对象：代表xy轴的对象，可以设置label，line，tick 线条，刻度等等\n",
    "   *"
   ]
  }
 ],
 "metadata": {
  "kernelspec": {
   "display_name": "Python 3 (ipykernel)",
   "language": "python",
   "name": "python3"
  },
  "language_info": {
   "codemirror_mode": {
    "name": "ipython",
    "version": 3
   },
   "file_extension": ".py",
   "mimetype": "text/x-python",
   "name": "python",
   "nbconvert_exporter": "python",
   "pygments_lexer": "ipython3",
   "version": "3.9.7"
  }
 },
 "nbformat": 4,
 "nbformat_minor": 5
}
