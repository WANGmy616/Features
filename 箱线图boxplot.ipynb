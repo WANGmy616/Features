{
 "cells": [
  {
   "cell_type": "code",
   "execution_count": 2,
   "id": "956c60fb",
   "metadata": {},
   "outputs": [],
   "source": [
    "import numpy as np\n",
    "import pandas as pd\n",
    "import matplotlib.pyplot as plt\n"
   ]
  },
  {
   "cell_type": "code",
   "execution_count": 10,
   "id": "530a783b",
   "metadata": {},
   "outputs": [
    {
     "data": {
      "text/plain": [
       "{'whiskers': [<matplotlib.lines.Line2D at 0x7f9562e35df0>,\n",
       "  <matplotlib.lines.Line2D at 0x7f9562e33ca0>],\n",
       " 'caps': [<matplotlib.lines.Line2D at 0x7f9562e32820>,\n",
       "  <matplotlib.lines.Line2D at 0x7f9562e30550>],\n",
       " 'boxes': [<matplotlib.lines.Line2D at 0x7f9562ed91f0>],\n",
       " 'medians': [<matplotlib.lines.Line2D at 0x7f9562e2e850>],\n",
       " 'fliers': [<matplotlib.lines.Line2D at 0x7f9562e2ce80>],\n",
       " 'means': [<matplotlib.lines.Line2D at 0x7f9562e2cc40>]}"
      ]
     },
     "execution_count": 10,
     "metadata": {},
     "output_type": "execute_result"
    },
    {
     "data": {
      "image/png": "[encoded data removed]",
      "text/plain": [
       "<Figure size 432x288 with 1 Axes>"
      ]
     },
     "metadata": {
      "needs_background": "light"
     },
     "output_type": "display_data"
    }
   ],
   "source": [
    "#一个箱形图\n",
    "data = np.random.rand(100)*100\n",
    "#添加两个异常值\n",
    "data = np.append(data,np.array([-120,150]))\n",
    "plt.boxplot(data,sym='3',vert=False,widths=2,labels=['a'],meanline=True,showmeans=True)\n"
   ]
  },
  {
   "cell_type": "code",
   "execution_count": 21,
   "id": "07f31805",
   "metadata": {
    "scrolled": true
   },
   "outputs": [
    {
     "data": {
      "image/png": "[encoded data removed]",
      "text/plain": [
       "<Figure size 432x288 with 1 Axes>"
      ]
     },
     "metadata": {
      "needs_background": "light"
     },
     "output_type": "display_data"
    }
   ],
   "source": [
    "midwest = pd.read_csv(\"https://raw.githubusercontent.com/selva86/datasets/master/midwest_filter.csv\")\n",
    "categories = {'AAR':'a','LHR':'b','ALU':'c','LAR':'d','HAU':'e'}\n",
    "dfs = []\n",
    "for code in categories.keys():\n",
    "    df = midwest[midwest['category']==code]['area'].dropna()\n",
    "    dfs.append(df)\n",
    "plt.boxplot(dfs)\n",
    "plt.xticks(range(1,6),categories.values())\n",
    "plt.show()"
   ]
  },
  {
   "cell_type": "markdown",
   "id": "2bb99d53",
   "metadata": {},
   "source": []
  }
 ],
 "metadata": {
  "kernelspec": {
   "display_name": "Python 3 (ipykernel)",
   "language": "python",
   "name": "python3"
  },
  "language_info": {
   "codemirror_mode": {
    "name": "ipython",
    "version": 3
   },
   "file_extension": ".py",
   "mimetype": "text/x-python",
   "name": "python",
   "nbconvert_exporter": "python",
   "pygments_lexer": "ipython3",
   "version": "3.9.7"
  }
 },
 "nbformat": 4,
 "nbformat_minor": 5
}
